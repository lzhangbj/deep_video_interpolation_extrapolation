{
 "cells": [
  {
   "cell_type": "code",
   "execution_count": 3,
   "metadata": {
    "collapsed": true
   },
   "outputs": [],
   "source": [
    "import torch\n",
    "import numpy as np\n",
    "import os\n",
    "from PIL import Image, ImageFilter\n",
    "import sys\n",
    "import matplotlib.pyplot as plt\n",
    "from matplotlib.pyplot import figure\n",
    "import torchvision.transforms as transforms \n",
    "from itertools import groupby\n",
    "from operator import itemgetter"
   ]
  },
  {
   "cell_type": "code",
   "execution_count": 4,
   "metadata": {
    "collapsed": true
   },
   "outputs": [],
   "source": [
    "car_flow = []\n",
    "person_flow = []\n",
    "car_person_flow = []"
   ]
  },
  {
   "cell_type": "code",
   "execution_count": 5,
   "metadata": {
    "collapsed": true
   },
   "outputs": [],
   "source": [
    "seg_dir = '/data/agong/train/deeplab/'\n",
    "# strasbourg_000000_000046_leftImgseg.png\n",
    "flow_dir = '/data/agong/train/flow_npz/'\n",
    "# strasbourg_000000_000055_flow.npy\n",
    "large_flow_dir = '/data/agong/train/large_flow/'"
   ]
  },
  {
   "cell_type": "code",
   "execution_count": 6,
   "metadata": {
    "collapsed": true
   },
   "outputs": [],
   "source": [
    "car_col = np.array([0,0,142])\n",
    "truck_col = np.array([0,0,70])\n",
    "bus_col = np.array([0,60,100])\n",
    "train_col = np.array([0,80,100])\n",
    "\n",
    "person_col = np.array([220,20,60])"
   ]
  },
  {
   "cell_type": "code",
   "execution_count": 14,
   "metadata": {
    "collapsed": false
   },
   "outputs": [
    {
     "name": "stdout",
     "output_type": "stream",
     "text": [
      "['hanover', 'ulm', 'hamburg', 'aachen', 'darmstadt', 'cologne', 'weimar', 'tubingen', 'erfurt', 'dusseldorf', 'krefeld', 'bremen', 'stuttgart', 'jena', 'zurich', 'monchengladbach', 'strasbourg', 'bochum']\n",
      "hanover\n",
      "0\n",
      "100\n",
      "200\n",
      "300\n",
      "400\n",
      "500\n",
      "600\n",
      "700\n",
      "800\n",
      "900\n",
      "1000\n",
      "1100\n",
      "1200\n",
      "1300\n",
      "1400\n",
      "1500\n",
      "1600\n",
      "1700\n",
      "1800\n",
      "1900\n",
      "2000\n",
      "2100\n",
      "2200\n",
      "2300\n",
      "2400\n",
      "2500\n",
      "2600\n",
      "2700\n",
      "2800\n",
      "2900\n",
      "3000\n",
      "3100\n",
      "3200\n",
      "3300\n",
      "3400\n",
      "3500\n",
      "3600\n",
      "3700\n",
      "3800\n",
      "3900\n",
      "4000\n",
      "4100\n",
      "4200\n",
      "4300\n",
      "4400\n",
      "4500\n",
      "4600\n",
      "4700\n",
      "4800\n",
      "4900\n",
      "5000\n",
      "5100\n",
      "5200\n"
     ]
    }
   ],
   "source": [
    "cities = [c for c in os.listdir(flow_dir)]\n",
    "print(cities)\n",
    "# leftImg\n",
    "\n",
    "for city in cities:\n",
    "    print(city)\n",
    "#     if not os.path.isdir(os.path.join(large_flow_dir,city)):\n",
    "#         os.makedirs(os.path.join(large_flow_dir,city))\n",
    "\n",
    "    p_ = os.path.join(flow_dir, city)   # flow dir   /data/agong/train/flow_npz/aachen\n",
    "    q_ = os.path.join(seg_dir, city)    # seg dir    /data/agong/train/deeplab_label/aachen\n",
    "#     r_ = os.path.join(large_flow_dir, city)   # useless flow dir\n",
    "\n",
    "    ff = [f for f in os.listdir(p_) if f.endswith('flow.npy')]\n",
    "    for idx,fff in enumerate(ff):\n",
    "#     for fff in ff:\n",
    "        if idx%100 == 0:\n",
    "            print(idx)\n",
    "        ffs = '_'.join(fff.split('_')[:-1])+'_leftImgseg.png'\n",
    "        a = np.array(Image.open(os.path.join(q_,ffs)))\n",
    "\n",
    "        ffz = np.load(os.path.join(p_,fff))\n",
    "        ffz = np.linalg.norm(ffz, axis=0)\n",
    "#         print('ffz',ffz.shape)\n",
    "        \n",
    "        # for cars\n",
    "        mask = np.multiply.reduce(a==car_col,2).astype(np.bool)\n",
    "#         print('mask',mask.shape)\n",
    "#         mask = mask or np.multiply.reduce(a==bus_col).astype(np.bool)\n",
    "#         mask = mask or np.multiply.reduce(a==train_col).astype(np.bool)\n",
    "        b = ffz[mask]\n",
    "        if b.size==0:\n",
    "            car_ff = 0\n",
    "        else:\n",
    "            car_ff = np.mean(b)\n",
    "        car_flow.append(car_ff)\n",
    "        \n",
    "        # for person\n",
    "        mask = np.multiply.reduce(a==person_col,2).astype(np.bool)\n",
    "        b = ffz[mask]\n",
    "        if b.size==0:\n",
    "            person_ff = 0\n",
    "        else:\n",
    "            person_ff = np.mean(b)\n",
    "        person_flow.append(person_ff)\n",
    "        \n",
    "        car_person_flow.append(car_ff+person_ff)\n",
    "        \n",
    "    break\n"
   ]
  },
  {
   "cell_type": "code",
   "execution_count": 18,
   "metadata": {
    "collapsed": false
   },
   "outputs": [
    {
     "data": {
      "text/plain": [
       "(array([388., 440., 457., 376., 340., 285., 273., 208., 192., 158., 178.,\n",
       "        144., 123., 102., 149., 148., 140., 140., 121., 127., 132., 125.,\n",
       "        109., 100., 112., 109., 124.,  66.,  96.,  72.,  70.,  53.,  40.,\n",
       "         33.,  25.,  28.,  23.,  20.,  19.,  14.,  18.,  11.,   9.,  10.,\n",
       "         10.,  10.,   9.,   7.,   8.,   3.,   4.,   4.,   2.,   7.,   5.,\n",
       "          5.,   3.,   5.,   1.,   6.,   8.,   6.,   8.,  17.,  12.,   3.,\n",
       "          4.,   2.,   0.,   9.,   3.,   0.,   2.,   1.,   5.,   2.,   2.,\n",
       "          0.,   7.,   0.,   1.,   1.,   0.,   0.,   1.,   1.,   0.,   0.,\n",
       "          3.,   0.,   0.,   0.,   0.,   1.,   0.,   0.,   0.,   0.,   0.,\n",
       "          1.]), array([  0.        ,   2.76397095,   5.52794189,   8.29191284,\n",
       "         11.05588379,  13.81985474,  16.58382568,  19.34779663,\n",
       "         22.11176758,  24.87573853,  27.63970947,  30.40368042,\n",
       "         33.16765137,  35.93162231,  38.69559326,  41.45956421,\n",
       "         44.22353516,  46.9875061 ,  49.75147705,  52.515448  ,\n",
       "         55.27941895,  58.04338989,  60.80736084,  63.57133179,\n",
       "         66.33530273,  69.09927368,  71.86324463,  74.62721558,\n",
       "         77.39118652,  80.15515747,  82.91912842,  85.68309937,\n",
       "         88.44707031,  91.21104126,  93.97501221,  96.73898315,\n",
       "         99.5029541 , 102.26692505, 105.030896  , 107.79486694,\n",
       "        110.55883789, 113.32280884, 116.08677979, 118.85075073,\n",
       "        121.61472168, 124.37869263, 127.14266357, 129.90663452,\n",
       "        132.67060547, 135.43457642, 138.19854736, 140.96251831,\n",
       "        143.72648926, 146.49046021, 149.25443115, 152.0184021 ,\n",
       "        154.78237305, 157.54634399, 160.31031494, 163.07428589,\n",
       "        165.83825684, 168.60222778, 171.36619873, 174.13016968,\n",
       "        176.89414063, 179.65811157, 182.42208252, 185.18605347,\n",
       "        187.95002441, 190.71399536, 193.47796631, 196.24193726,\n",
       "        199.0059082 , 201.76987915, 204.5338501 , 207.29782104,\n",
       "        210.06179199, 212.82576294, 215.58973389, 218.35370483,\n",
       "        221.11767578, 223.88164673, 226.64561768, 229.40958862,\n",
       "        232.17355957, 234.93753052, 237.70150146, 240.46547241,\n",
       "        243.22944336, 245.99341431, 248.75738525, 251.5213562 ,\n",
       "        254.28532715, 257.0492981 , 259.81326904, 262.57723999,\n",
       "        265.34121094, 268.10518188, 270.86915283, 273.63312378,\n",
       "        276.39709473]), <a list of 100 Patch objects>)"
      ]
     },
     "execution_count": 18,
     "metadata": {},
     "output_type": "execute_result"
    },
    {
     "data": {
      "image/png": "[encoded data removed]",
      "text/plain": [
       "<Figure size 432x288 with 1 Axes>"
      ]
     },
     "metadata": {
      "needs_background": "light"
     },
     "output_type": "display_data"
    }
   ],
   "source": [
    "plt.hist(car_flow,bins=100)"
   ]
  },
  {
   "cell_type": "code",
   "execution_count": 20,
   "metadata": {
    "collapsed": false
   },
   "outputs": [
    {
     "data": {
      "text/plain": [
       "(array([687., 413., 590., 587., 631., 470., 426., 348., 283., 199., 146.,\n",
       "        129., 120., 101.,  89.,  85.,  73.,  67.,  45.,  53.,  30.,  32.,\n",
       "         24.,  24.,  25.,  31.,  24.,  19.,  33.,  27.,  14.,  20.,  13.,\n",
       "          9.,  10.,  12.,  11.,  19.,  15.,  20.,  10.,  11.,  10.,   7.,\n",
       "         12.,   4.,   4.,   4.,   3.,   8.,   6.,   8.,   4.,   5.,   0.,\n",
       "          2.,   3.,   1.,   1.,   2.,   4.,   4.,   0.,   0.,   0.,   1.,\n",
       "          0.,   0.,   1.,   0.,   0.,   0.,   2.,   1.,   0.,   1.,   0.,\n",
       "          0.,   0.,   0.,   0.,   0.,   0.,   0.,   0.,   0.,   0.,   0.,\n",
       "          0.,   1.,   1.,   1.,   0.,   0.,   0.,   0.,   0.,   0.,   0.,\n",
       "          1.]), array([  0.        ,   2.70808044,   5.41616089,   8.12424133,\n",
       "         10.83232178,  13.54040222,  16.24848267,  18.95656311,\n",
       "         21.66464355,  24.372724  ,  27.08080444,  29.78888489,\n",
       "         32.49696533,  35.20504578,  37.91312622,  40.62120667,\n",
       "         43.32928711,  46.03736755,  48.745448  ,  51.45352844,\n",
       "         54.16160889,  56.86968933,  59.57776978,  62.28585022,\n",
       "         64.99393066,  67.70201111,  70.41009155,  73.118172  ,\n",
       "         75.82625244,  78.53433289,  81.24241333,  83.95049377,\n",
       "         86.65857422,  89.36665466,  92.07473511,  94.78281555,\n",
       "         97.490896  , 100.19897644, 102.90705688, 105.61513733,\n",
       "        108.32321777, 111.03129822, 113.73937866, 116.44745911,\n",
       "        119.15553955, 121.86362   , 124.57170044, 127.27978088,\n",
       "        129.98786133, 132.69594177, 135.40402222, 138.11210266,\n",
       "        140.82018311, 143.52826355, 146.23634399, 148.94442444,\n",
       "        151.65250488, 154.36058533, 157.06866577, 159.77674622,\n",
       "        162.48482666, 165.1929071 , 167.90098755, 170.60906799,\n",
       "        173.31714844, 176.02522888, 178.73330933, 181.44138977,\n",
       "        184.14947021, 186.85755066, 189.5656311 , 192.27371155,\n",
       "        194.98179199, 197.68987244, 200.39795288, 203.10603333,\n",
       "        205.81411377, 208.52219421, 211.23027466, 213.9383551 ,\n",
       "        216.64643555, 219.35451599, 222.06259644, 224.77067688,\n",
       "        227.47875732, 230.18683777, 232.89491821, 235.60299866,\n",
       "        238.3110791 , 241.01915955, 243.72723999, 246.43532043,\n",
       "        249.14340088, 251.85148132, 254.55956177, 257.26764221,\n",
       "        259.97572266, 262.6838031 , 265.39188354, 268.09996399,\n",
       "        270.80804443]), <a list of 100 Patch objects>)"
      ]
     },
     "execution_count": 20,
     "metadata": {},
     "output_type": "execute_result"
    },
    {
     "data": {
      "image/png": "[encoded data removed]",
      "text/plain": [
       "<Figure size 432x288 with 1 Axes>"
      ]
     },
     "metadata": {
      "needs_background": "light"
     },
     "output_type": "display_data"
    }
   ],
   "source": [
    "plt.hist(person_flow,bins=100)"
   ]
  },
  {
   "cell_type": "code",
   "execution_count": 22,
   "metadata": {
    "collapsed": false
   },
   "outputs": [
    {
     "data": {
      "text/plain": [
       "(array([152., 196., 273., 508., 450., 355., 354., 324., 285., 350., 300.,\n",
       "        264., 232., 261., 219., 215., 188., 143., 121.,  87.,  65.,  81.,\n",
       "         63.,  77.,  45.,  39.,  19.,  27.,  22.,  28.,  32.,  26.,  22.,\n",
       "         15.,  25.,  21.,   8.,  17.,  17.,   7.,   7.,   7.,   9.,   9.,\n",
       "          4.,   7.,   3.,   7.,   5.,   5.,   2.,   2.,   3.,   0.,   4.,\n",
       "          3.,   1.,   6.,   5.,  11.,  12.,   1.,   2.,   0.,   1.,   3.,\n",
       "          1.,   0.,   1.,   0.,   1.,   0.,   2.,   0.,   0.,   0.,   0.,\n",
       "          0.,   0.,   0.,   0.,   0.,   0.,   0.,   0.,   1.,   1.,   1.,\n",
       "          1.,   0.,   0.,   0.,   1.,   1.,   0.,   0.,   0.,   0.,   0.,\n",
       "          1.]),\n",
       " array([1.32948384e-01, 5.27583582e+00, 1.04187233e+01, 1.55616107e+01,\n",
       "        2.07044981e+01, 2.58473856e+01, 3.09902730e+01, 3.61331604e+01,\n",
       "        4.12760479e+01, 4.64189353e+01, 5.15618227e+01, 5.67047102e+01,\n",
       "        6.18475976e+01, 6.69904850e+01, 7.21333725e+01, 7.72762599e+01,\n",
       "        8.24191473e+01, 8.75620348e+01, 9.27049222e+01, 9.78478097e+01,\n",
       "        1.02990697e+02, 1.08133585e+02, 1.13276472e+02, 1.18419359e+02,\n",
       "        1.23562247e+02, 1.28705134e+02, 1.33848022e+02, 1.38990909e+02,\n",
       "        1.44133797e+02, 1.49276684e+02, 1.54419571e+02, 1.59562459e+02,\n",
       "        1.64705346e+02, 1.69848234e+02, 1.74991121e+02, 1.80134009e+02,\n",
       "        1.85276896e+02, 1.90419783e+02, 1.95562671e+02, 2.00705558e+02,\n",
       "        2.05848446e+02, 2.10991333e+02, 2.16134221e+02, 2.21277108e+02,\n",
       "        2.26419996e+02, 2.31562883e+02, 2.36705770e+02, 2.41848658e+02,\n",
       "        2.46991545e+02, 2.52134433e+02, 2.57277320e+02, 2.62420208e+02,\n",
       "        2.67563095e+02, 2.72705982e+02, 2.77848870e+02, 2.82991757e+02,\n",
       "        2.88134645e+02, 2.93277532e+02, 2.98420420e+02, 3.03563307e+02,\n",
       "        3.08706194e+02, 3.13849082e+02, 3.18991969e+02, 3.24134857e+02,\n",
       "        3.29277744e+02, 3.34420632e+02, 3.39563519e+02, 3.44706407e+02,\n",
       "        3.49849294e+02, 3.54992181e+02, 3.60135069e+02, 3.65277956e+02,\n",
       "        3.70420844e+02, 3.75563731e+02, 3.80706619e+02, 3.85849506e+02,\n",
       "        3.90992393e+02, 3.96135281e+02, 4.01278168e+02, 4.06421056e+02,\n",
       "        4.11563943e+02, 4.16706831e+02, 4.21849718e+02, 4.26992605e+02,\n",
       "        4.32135493e+02, 4.37278380e+02, 4.42421268e+02, 4.47564155e+02,\n",
       "        4.52707043e+02, 4.57849930e+02, 4.62992818e+02, 4.68135705e+02,\n",
       "        4.73278592e+02, 4.78421480e+02, 4.83564367e+02, 4.88707255e+02,\n",
       "        4.93850142e+02, 4.98993030e+02, 5.04135917e+02, 5.09278804e+02,\n",
       "        5.14421692e+02]),\n",
       " <a list of 100 Patch objects>)"
      ]
     },
     "execution_count": 22,
     "metadata": {},
     "output_type": "execute_result"
    },
    {
     "data": {
      "image/png": "[encoded data removed]",
      "text/plain": [
       "<Figure size 432x288 with 1 Axes>"
      ]
     },
     "metadata": {
      "needs_background": "light"
     },
     "output_type": "display_data"
    }
   ],
   "source": [
    "plt.hist(car_person_flow,bins=100)"
   ]
  },
  {
   "cell_type": "code",
   "execution_count": null,
   "metadata": {
    "collapsed": true
   },
   "outputs": [],
   "source": []
  },
  {
   "cell_type": "code",
   "execution_count": null,
   "metadata": {
    "collapsed": true
   },
   "outputs": [],
   "source": []
  },
  {
   "cell_type": "code",
   "execution_count": null,
   "metadata": {
    "collapsed": true
   },
   "outputs": [],
   "source": []
  }
 ],
 "metadata": {
  "kernelspec": {
   "display_name": "Python 3",
   "language": "python",
   "name": "python3"
  },
  "language_info": {
   "codemirror_mode": {
    "name": "ipython",
    "version": 3
   },
   "file_extension": ".py",
   "mimetype": "text/x-python",
   "name": "python",
   "nbconvert_exporter": "python",
   "pygments_lexer": "ipython3",
   "version": "3.6.0"
  }
 },
 "nbformat": 4,
 "nbformat_minor": 2
}
